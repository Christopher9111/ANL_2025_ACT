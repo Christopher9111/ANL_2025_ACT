{
  "cells": [
    {
      "cell_type": "markdown",
      "id": "3effbdeb",
      "metadata": {
        "id": "3effbdeb"
      },
      "source": [
        "Gauss Seidel\n",
        "\n",
        "$x_i^{k+1} = \\frac{1}{a_{ii}}(b_i - \\sum_{j=1}^{i-1} a_{ij} x_j^{k+1}-\\sum_{j=1}^{i-1} a_{ij} x_j^{k} )$\n"
      ]
    },
    {
      "cell_type": "code",
      "execution_count": 1,
      "id": "8bfddfed",
      "metadata": {
        "id": "8bfddfed"
      },
      "outputs": [],
      "source": [
        "\n",
        "\n",
        "\n",
        "import numpy as np\n",
        "from numpy.linalg import norm\n",
        "\n",
        "def gauss_seidel(A, b, x0, tolerancia, max_iter=100):\n",
        "    x = x0.copy()\n",
        "    for k in range(max_iter):\n",
        "        x_new = np.zeros_like(x)\n",
        "        for i in range(A.shape[0]):\n",
        "            s1 = np.dot(A[i, :i], x_new[:i])\n",
        "            s2 = np.dot(A[i, i+1:], x[i+1:])\n",
        "            x_new[i] = (b[i] - s1 - s2) / A[i, i]\n",
        "        if norm(A @ x_new - b) < tolerancia:\n",
        "            break\n",
        "        x = x_new\n",
        "    return x_new, k+1"
      ]
    },
    {
      "cell_type": "code",
      "execution_count": 3,
      "id": "71d7ec2e",
      "metadata": {
        "colab": {
          "base_uri": "https://localhost:8080/"
        },
        "id": "71d7ec2e",
        "outputId": "ef595dec-437a-45a7-b426-b2d5638679d5"
      },
      "outputs": [
        {
          "output_type": "stream",
          "name": "stdout",
          "text": [
            "[-0.2491147   0.08795402  0.30427076]\n",
            "7\n"
          ]
        }
      ],
      "source": [
        "B = np.array([[1,2,3],[1,4,3],[3,2,1]])\n",
        "C = np.transpose(B)\n",
        "#print(B)\n",
        "#print(C)\n",
        "A = np.dot(B,C)\n",
        "#print(A)\n",
        "b = np.array([1,2,3])\n",
        "x0 = np.array([0.0, 0.0, 0.0]) # Initialize x0 with the correct size\n",
        "tolerancia = 0.2\n",
        "x,k=gauss_seidel(A,b,x0,tolerancia)\n",
        "print(x)\n",
        "print(k)"
      ]
    }
  ],
  "metadata": {
    "kernelspec": {
      "display_name": "base",
      "language": "python",
      "name": "python3"
    },
    "language_info": {
      "codemirror_mode": {
        "name": "ipython",
        "version": 3
      },
      "file_extension": ".py",
      "mimetype": "text/x-python",
      "name": "python",
      "nbconvert_exporter": "python",
      "pygments_lexer": "ipython3",
      "version": "3.12.7"
    },
    "colab": {
      "provenance": []
    }
  },
  "nbformat": 4,
  "nbformat_minor": 5
}